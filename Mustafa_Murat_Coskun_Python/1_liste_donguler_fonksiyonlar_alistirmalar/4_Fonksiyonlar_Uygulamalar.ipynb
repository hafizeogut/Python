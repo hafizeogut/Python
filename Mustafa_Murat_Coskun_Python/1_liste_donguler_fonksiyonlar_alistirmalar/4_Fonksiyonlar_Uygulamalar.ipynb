{
 "cells": [
  {
   "cell_type": "markdown",
   "id": "c2bedb25",
   "metadata": {},
   "source": [
    "### Problem 1\n",
    "1'den 1000'e kadar olan sayılardan mükemmel sayı olanları ekrana yazdırın. Bunun için bir sayının mükemmel olup olmadığını dönen bir tane fonksiyon yazın.\n",
    "\n",
    "Bir sayının bölenlerinin toplamı kendine eşitse bu sayı mükemmel bir sayıdır. Örnek olarak 6 mükemmel bir sayıdır (1 + 2 + 3 = 6)."
   ]
  },
  {
   "cell_type": "code",
   "execution_count": 19,
   "id": "b37cc082",
   "metadata": {},
   "outputs": [
    {
     "name": "stdout",
     "output_type": "stream",
     "text": [
      "Mükemmel sayı: 6\n",
      "Mükemmel sayı: 28\n",
      "Mükemmel sayı: 496\n"
     ]
    }
   ],
   "source": [
    "def mukemmel_sayi(Sayi):\n",
    "    toplam=0\n",
    "    \n",
    "    for i in range(1,Sayi):\n",
    "        if (Sayi%i)==0:\n",
    "            toplam +=i\n",
    "    return toplam==Sayi\n",
    "        \n",
    "for i in range(1,1000):\n",
    "    if (mukemmel_sayi(i)):\n",
    "        print(\"Mükemmel sayı:\",i)\n",
    "        "
   ]
  },
  {
   "cell_type": "code",
   "execution_count": 24,
   "id": "054e3b04",
   "metadata": {},
   "outputs": [
    {
     "name": "stdout",
     "output_type": "stream",
     "text": [
      "Mükkemmmel sayılar: [6, 28, 496]\n"
     ]
    }
   ],
   "source": [
    "def mukemmel_sayi(Sayi):\n",
    "    toplam=0\n",
    "    \n",
    "    \n",
    "    for i in range(1,Sayi):\n",
    "        if (Sayi%i)==0:\n",
    "            toplam +=i\n",
    "    return toplam==Sayi\n",
    "liste=[]        \n",
    "for i in range(1,1000):\n",
    "    if (mukemmel_sayi(i)):\n",
    "        liste.append(i)\n",
    "        \n",
    "print(\"Mükkemmmel sayılar:\",liste)"
   ]
  },
  {
   "cell_type": "markdown",
   "id": "1771d89b",
   "metadata": {},
   "source": [
    "### Problem 2\n",
    "Kullanıcıdan 2 tane sayı alarak bu sayıların en büyük ortak bölenini (EBOB) dönen bir tane fonksiyon yazın.\n",
    "\n",
    "Problem için şu siteye bakabilirsiniz;"
   ]
  },
  {
   "cell_type": "code",
   "execution_count": 1,
   "id": "27b3f4ef",
   "metadata": {},
   "outputs": [
    {
     "name": "stdout",
     "output_type": "stream",
     "text": [
      "Birinci Sayıyı Giriniz : 25\n",
      "İkinci Sayıyı Giriniz : 15\n",
      "EBOB: 5\n",
      "EKOK: 75\n"
     ]
    }
   ],
   "source": [
    "birinciSayi = int(input(\"Birinci Sayıyı Giriniz : \"))\n",
    "ikinciSayi = int(input(\"İkinci Sayıyı Giriniz : \"))\n",
    " \n",
    "if (birinciSayi > ikinciSayi):\n",
    "    kucuksayi = ikinciSayi\n",
    "else:\n",
    "    kucuksayi = birinciSayi\n",
    "for i in range(1,kucuksayi+1):\n",
    "    if (birinciSayi % i==0) and (ikinciSayi%i ==0):\n",
    "        ebob = i\n",
    "        ekok = (birinciSayi*ikinciSayi)//ebob\n",
    "        \n",
    "print (\"EBOB:\", ebob)\n",
    "print (\"EKOK:\", ekok)"
   ]
  },
  {
   "cell_type": "code",
   "execution_count": 5,
   "id": "69652cfa",
   "metadata": {},
   "outputs": [
    {
     "name": "stdout",
     "output_type": "stream",
     "text": [
      "Birinci Sayıyı Giriniz : 15\n",
      "İkinci Sayıyı Giriniz : 25\n",
      "1\n",
      "1\n",
      "375.0\n",
      "2\n",
      "3\n",
      "3\n",
      "125.0\n",
      "4\n",
      "5\n",
      "5\n",
      "75.0\n",
      "6\n",
      "7\n",
      "8\n",
      "9\n",
      "10\n",
      "11\n",
      "12\n",
      "13\n",
      "14\n",
      "15\n",
      "15\n",
      "25.0\n",
      "EBOB: 15\n",
      "EKOK: 25.0\n"
     ]
    }
   ],
   "source": [
    "birinciSayi = int(input(\"Birinci Sayıyı Giriniz : \"))\n",
    "ikinciSayi = int(input(\"İkinci Sayıyı Giriniz : \"))\n",
    " \n",
    "if (birinciSayi > ikinciSayi):\n",
    "    kucuksayi = ikinciSayi\n",
    "else:\n",
    "    kucuksayi=birinciSayi\n",
    "    \n",
    "for i in range(1,kucuksayi+1):\n",
    "    #print(i)\n",
    "    if (birinciSayi %i==0) and (birinciSayi %i==0):\n",
    "        ebob=i\n",
    "        #print(ebob)\n",
    "        ekok=(birinciSayi*ikinciSayi)/ebob\n",
    "        #print(ekok)\n",
    "print (\"EBOB:\", ebob)\n",
    "print (\"EKOK:\", ekok)      \n",
    "        "
   ]
  },
  {
   "cell_type": "code",
   "execution_count": 6,
   "id": "17520d64",
   "metadata": {},
   "outputs": [
    {
     "name": "stdout",
     "output_type": "stream",
     "text": [
      "Birinci Sayıyı Giriniz : 25\n",
      "İkinci Sayıyı Giriniz : 75\n",
      "EBOB: 25\n",
      "EKOK: 75.0\n"
     ]
    }
   ],
   "source": [
    "import math\n",
    " \n",
    "birinciSayi = int(input(\"Birinci Sayıyı Giriniz : \"))\n",
    "ikinciSayi = int(input(\"İkinci Sayıyı Giriniz : \"))\n",
    " \n",
    "ebob=math.gcd(birinciSayi,ikinciSayi)#kütüphane kullanarak ebob bulma işlemi\n",
    "ekok=(birinciSayi*ikinciSayi)/ebob \n",
    "        \n",
    "print (\"EBOB:\", ebob)\n",
    "print (\"EKOK:\", ekok)"
   ]
  },
  {
   "cell_type": "code",
   "execution_count": 4,
   "id": "322cc0ec",
   "metadata": {},
   "outputs": [
    {
     "name": "stdout",
     "output_type": "stream",
     "text": [
      "Sayı-1:75\n",
      "Sayı-2:25\n",
      "1\n",
      "5\n",
      "25\n",
      "Ebob: 25\n"
     ]
    }
   ],
   "source": [
    "def ebob_bulma(sayi1,sayi2):\n",
    "    i=1\n",
    "    ebob=i\n",
    "    \n",
    "    while(i<=sayi1 and i<=sayi2):\n",
    "        if(not(sayi1%i) and not (sayi2%i)):\n",
    "            ebob=i\n",
    "            print(ebob)\n",
    "        i+=1\n",
    "    return ebob\n",
    "\n",
    "sayi1 = int(input(\"Sayı-1:\"))\n",
    "sayi2 = int(input(\"Sayı-2:\"))\n",
    "\n",
    "print(\"Ebob:\",ebob_bulma(sayi1,sayi2))\n",
    "\n",
    "\n",
    "    "
   ]
  },
  {
   "cell_type": "markdown",
   "id": "67c27adf",
   "metadata": {},
   "source": [
    "# Problem 3\n",
    "Kullanıcıdan 2 tane sayı alarak bu sayıların en küçük ortak katlarını (EKOK) dönen bir tane fonksiyon yazın.\n",
    "\n",
    "Problem için şu siteye bakabilirsiniz;"
   ]
  },
  {
   "cell_type": "code",
   "execution_count": 1,
   "id": "e337c3e5",
   "metadata": {},
   "outputs": [
    {
     "name": "stdout",
     "output_type": "stream",
     "text": [
      "Sayı-1:15\n",
      "Sayı-2:45\n",
      "Sayi1: 5 \n",
      " Sayi2: 15\n",
      "Sayi1: 1 \n",
      " Sayi2: 1\n",
      "Ekok: 45\n"
     ]
    }
   ],
   "source": [
    "def ekok_bulma(sayi1,sayi2):\n",
    "    i=2\n",
    "    ekok=1\n",
    "    while True:\n",
    "        if (sayi1%i==0 and sayi2%i==0):\n",
    "            ekok*=i\n",
    "            \n",
    "            sayi1 //=i\n",
    "            sayi2 //=i\n",
    "            \n",
    "            print(\"Sayi1:\",sayi1,\"\\n Sayi2:\",sayi2)\n",
    "        elif (sayi1 % i ==  0 and sayi2 % i != 0):\n",
    "            ekok *= i\n",
    "\n",
    "            sayi1//=i\n",
    "\n",
    "\n",
    "        elif (sayi1 % i != 0 and sayi2 % i == 0):\n",
    "            ekok *= i\n",
    "\n",
    "            sayi2//=i\n",
    "        else:\n",
    "            i += 1\n",
    "        if (sayi1 == 1 and sayi2 == 1):\n",
    "            break\n",
    "    return ekok\n",
    "\n",
    "sayı1 = int(input(\"Sayı-1:\"))\n",
    "sayı2 = int(input(\"Sayı-2:\"))\n",
    "\n",
    "print(\"Ekok:\",ekok_bulma(sayı1,sayı2))"
   ]
  },
  {
   "cell_type": "markdown",
   "id": "7ff329de",
   "metadata": {},
   "source": [
    "# Problem 4\n",
    "Kullanıcıdan 2 basamaklı bir sayı alın ve bu sayının okunuşunu bulan bir fonksiyon yazın.\n",
    "\n",
    "Örnek: 97 ---------> Doksan Yedi"
   ]
  },
  {
   "cell_type": "code",
   "execution_count": 3,
   "id": "79651fdf",
   "metadata": {},
   "outputs": [
    {
     "name": "stdout",
     "output_type": "stream",
     "text": [
      "Sayı:15\n",
      "On Beş\n"
     ]
    }
   ],
   "source": [
    "birler =  [\"\",\"Bir\",\"İki\",\"Üç\",\"Dört\",\"Beş\",\"Altı\",\"Yedi\",\"Sekiz\",\"Dokuz\"]\n",
    "onlar = [\"\",\"On\",\"Yirmi\",\"Otuz\",\"Kırk\",\"Elli\",\"Altmış\",\"Yetmiş\",\"Seksen\",\"Doksan\"]\n",
    "\n",
    "\n",
    "def okunus(sayi):\n",
    "    birinci=sayi%10\n",
    "    ikinci=sayi//10\n",
    "        \n",
    "    return onlar[ikinci]+\" \"+birler[birinci]\n",
    "\n",
    "sayı =  int(input(\"Sayı:\"))\n",
    "\n",
    "print(okunus(sayı))"
   ]
  },
  {
   "cell_type": "markdown",
   "id": "b1ab6d07",
   "metadata": {},
   "source": [
    "# Problem 5\n",
    "1'den 100'e kadar olan sayılardan pisagor üçgeni oluşturanları ekrana yazdıran bir fonksiyon yazın.(a <= 100,b <= 100)"
   ]
  },
  {
   "cell_type": "code",
   "execution_count": 12,
   "id": "8c634e14",
   "metadata": {},
   "outputs": [
    {
     "name": "stdout",
     "output_type": "stream",
     "text": [
      "(3, 4, 5)\n",
      "(4, 3, 5)\n",
      "(5, 12, 13)\n",
      "(6, 8, 10)\n",
      "(7, 24, 25)\n",
      "(8, 6, 10)\n",
      "(8, 15, 17)\n",
      "(9, 12, 15)\n",
      "(9, 40, 41)\n",
      "(10, 24, 26)\n",
      "(11, 60, 61)\n",
      "(12, 5, 13)\n",
      "(12, 9, 15)\n",
      "(12, 16, 20)\n",
      "(12, 35, 37)\n",
      "(13, 84, 85)\n",
      "(14, 48, 50)\n",
      "(15, 8, 17)\n",
      "(15, 20, 25)\n",
      "(15, 36, 39)\n",
      "(16, 12, 20)\n",
      "(16, 30, 34)\n",
      "(16, 63, 65)\n",
      "(18, 24, 30)\n",
      "(18, 80, 82)\n",
      "(20, 15, 25)\n",
      "(20, 21, 29)\n",
      "(20, 48, 52)\n",
      "(20, 99, 101)\n",
      "(21, 20, 29)\n",
      "(21, 28, 35)\n",
      "(21, 72, 75)\n",
      "(24, 7, 25)\n",
      "(24, 10, 26)\n",
      "(24, 18, 30)\n",
      "(24, 32, 40)\n",
      "(24, 45, 51)\n",
      "(24, 70, 74)\n",
      "(25, 60, 65)\n",
      "(27, 36, 45)\n",
      "(28, 21, 35)\n",
      "(28, 45, 53)\n",
      "(28, 96, 100)\n",
      "(30, 16, 34)\n",
      "(30, 40, 50)\n",
      "(30, 72, 78)\n",
      "(32, 24, 40)\n",
      "(32, 60, 68)\n",
      "(33, 44, 55)\n",
      "(33, 56, 65)\n",
      "(35, 12, 37)\n",
      "(35, 84, 91)\n",
      "(36, 15, 39)\n",
      "(36, 27, 45)\n",
      "(36, 48, 60)\n",
      "(36, 77, 85)\n",
      "(39, 52, 65)\n",
      "(39, 80, 89)\n",
      "(40, 9, 41)\n",
      "(40, 30, 50)\n",
      "(40, 42, 58)\n",
      "(40, 75, 85)\n",
      "(40, 96, 104)\n",
      "(42, 40, 58)\n",
      "(42, 56, 70)\n",
      "(44, 33, 55)\n",
      "(45, 24, 51)\n",
      "(45, 28, 53)\n",
      "(45, 60, 75)\n",
      "(48, 14, 50)\n",
      "(48, 20, 52)\n",
      "(48, 36, 60)\n",
      "(48, 55, 73)\n",
      "(48, 64, 80)\n",
      "(48, 90, 102)\n",
      "(51, 68, 85)\n",
      "(52, 39, 65)\n",
      "(54, 72, 90)\n",
      "(55, 48, 73)\n",
      "(56, 33, 65)\n",
      "(56, 42, 70)\n",
      "(56, 90, 106)\n",
      "(57, 76, 95)\n",
      "(60, 11, 61)\n",
      "(60, 25, 65)\n",
      "(60, 32, 68)\n",
      "(60, 45, 75)\n",
      "(60, 63, 87)\n",
      "(60, 80, 100)\n",
      "(60, 91, 109)\n",
      "(63, 16, 65)\n",
      "(63, 60, 87)\n",
      "(63, 84, 105)\n",
      "(64, 48, 80)\n",
      "(65, 72, 97)\n",
      "(66, 88, 110)\n",
      "(68, 51, 85)\n",
      "(69, 92, 115)\n",
      "(70, 24, 74)\n",
      "(72, 21, 75)\n",
      "(72, 30, 78)\n",
      "(72, 54, 90)\n",
      "(72, 65, 97)\n",
      "(72, 96, 120)\n",
      "(75, 40, 85)\n",
      "(75, 100, 125)\n",
      "(76, 57, 95)\n",
      "(77, 36, 85)\n",
      "(80, 18, 82)\n",
      "(80, 39, 89)\n",
      "(80, 60, 100)\n",
      "(80, 84, 116)\n",
      "(84, 13, 85)\n",
      "(84, 35, 91)\n",
      "(84, 63, 105)\n",
      "(84, 80, 116)\n",
      "(88, 66, 110)\n",
      "(90, 48, 102)\n",
      "(90, 56, 106)\n",
      "(91, 60, 109)\n",
      "(92, 69, 115)\n",
      "(96, 28, 100)\n",
      "(96, 40, 104)\n",
      "(96, 72, 120)\n",
      "(99, 20, 101)\n",
      "(100, 75, 125)\n"
     ]
    }
   ],
   "source": [
    "def pisagor_bulma():\n",
    "    pisagor_listesi=list()\n",
    "    for i in range(1,101):\n",
    "        for j in range (1,101):\n",
    "            c=(i**2 +j**2)**0.5\n",
    "            \n",
    "            if (c==int(c)):\n",
    "                pisagor_listesi.append((i,j,int(c)))\n",
    "    return pisagor_listesi\n",
    "\n",
    "for i in pisagor_bulma():\n",
    "    print(i)"
   ]
  },
  {
   "cell_type": "code",
   "execution_count": null,
   "id": "9f7e3140",
   "metadata": {},
   "outputs": [],
   "source": []
  },
  {
   "cell_type": "code",
   "execution_count": null,
   "id": "6d139aa0",
   "metadata": {},
   "outputs": [],
   "source": []
  }
 ],
 "metadata": {
  "kernelspec": {
   "display_name": "Python 3 (ipykernel)",
   "language": "python",
   "name": "python3"
  },
  "language_info": {
   "codemirror_mode": {
    "name": "ipython",
    "version": 3
   },
   "file_extension": ".py",
   "mimetype": "text/x-python",
   "name": "python",
   "nbconvert_exporter": "python",
   "pygments_lexer": "ipython3",
   "version": "3.11.2"
  }
 },
 "nbformat": 4,
 "nbformat_minor": 5
}
