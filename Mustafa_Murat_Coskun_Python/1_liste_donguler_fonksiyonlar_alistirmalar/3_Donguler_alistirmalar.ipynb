{
 "cells": [
  {
   "cell_type": "markdown",
   "id": "fc0d9cc5",
   "metadata": {},
   "source": [
    "### Problem 1\n",
    "\n",
    "Kullanıcıdan aldığınız bir sayının mükemmel olup olmadığını bulmaya çalışın.\n",
    "\n",
    "Bir sayının kendi hariç bölenlerinin toplamı kendine eşitse bu sayıya \"mükemmel sayı\" denir. Örnek olarak, 6 mükemmel bir sayıdır. (1 + 2 + 3 = 6)"
   ]
  },
  {
   "cell_type": "code",
   "execution_count": 9,
   "id": "dce75bcb",
   "metadata": {},
   "outputs": [
    {
     "name": "stdout",
     "output_type": "stream",
     "text": [
      "Sayınızı giriniz:6\n",
      "6 sayısı mükemmel sayıdır\n"
     ]
    }
   ],
   "source": [
    "toplam=0\n",
    "Sayi=int(input(\"Sayınızı giriniz:\"))\n",
    "for i in range(1,Sayi):\n",
    "    if (Sayi%i)==0:\n",
    "        toplam +=i\n",
    "if toplam==Sayi:\n",
    "    print(\"{} sayısı mükemmel sayıdır\".format(Sayi))\n",
    "    \n",
    "else:\n",
    "    print(\"{} sayısı mükemmel sayı değildir\".format(Sayi))"
   ]
  },
  {
   "cell_type": "code",
   "execution_count": 3,
   "id": "2916447c",
   "metadata": {},
   "outputs": [
    {
     "name": "stdout",
     "output_type": "stream",
     "text": [
      "Sayı: 6\n",
      "6 sayısı mükemmel sayıdır\n"
     ]
    }
   ],
   "source": [
    "sayi=int(input(\"Sayı: \"))\n",
    "\n",
    "i=1\n",
    "toplam=0\n",
    "\n",
    "while (i<sayi):\n",
    "    if(sayi%i==0):\n",
    "        toplam +=i\n",
    "        \n",
    "    i +=1\n",
    "    \n",
    "if toplam==sayi:\n",
    "    print(\"{} sayısı mükemmel sayıdır\".format(sayi))\n",
    "    \n",
    "else:\n",
    "    print(\"{} sayısı mükemmel sayı değildir\".format(sayi))\n",
    "    "
   ]
  },
  {
   "cell_type": "markdown",
   "id": "9a27e7ad",
   "metadata": {},
   "source": [
    "### Problem 2\n",
    "Kullanıcıdan aldığınız bir sayının \"Armstrong\" sayısı olup olmadığını bulmaya çalışın.\n",
    "\n",
    "Örnek olarak, Bir sayı eğer 4 basamaklı ise ve oluşturan rakamlardan herbirinin 4. kuvvetinin toplamı( 3 basamaklı sayılar için 3.kuvveti ) o sayıya eşitse bu sayıya \"Armstrong\" sayısı denir.\n",
    "\n",
    "Örnek olarak : 1634 = 1^4 + 6^4 + 3^4 + 4^4"
   ]
  },
  {
   "cell_type": "code",
   "execution_count": 6,
   "id": "dfdde4e2",
   "metadata": {},
   "outputs": [
    {
     "name": "stdout",
     "output_type": "stream",
     "text": [
      "Sayınızı giriniz:467\n",
      "467 Armstrong Sayısı Değildir.\n"
     ]
    }
   ],
   "source": [
    "\n",
    "toplam=0\n",
    "sayi=input(\"Sayınızı giriniz:\")\n",
    "basamak_sayisi=len(sayi)\n",
    "\n",
    "#print(basamak_sayisi) \n",
    "\n",
    "\n",
    "for i in sayi:\n",
    "    toplam +=(int(i)**basamak_sayisi)\n",
    "\n",
    "if toplam==int(sayi):\n",
    "    print(f\"{sayi}   Sayısıdır\")\n",
    "        \n",
    "else:\n",
    "    print(f\"{sayi} Armstrong Sayısı Değildir.\")"
   ]
  },
  {
   "cell_type": "code",
   "execution_count": 8,
   "id": "294791c1",
   "metadata": {},
   "outputs": [
    {
     "name": "stdout",
     "output_type": "stream",
     "text": [
      "sayı:407\n",
      "7\n",
      "343\n",
      "40\n",
      "0\n",
      "343\n",
      "4\n",
      "4\n",
      "407\n",
      "0\n",
      "407 Armstrong Sayısıdır\n"
     ]
    }
   ],
   "source": [
    "sayi= input(\"sayı:\")\n",
    "\n",
    "basamak_sayisi=len(sayi)\n",
    "sayi=int(sayi)\n",
    "basamak =0\n",
    "toplam=0\n",
    "\n",
    "gecici_sayi=sayi #sayı değişkenimin içerisindeki sayı gecici_sayi değişkenine atandı\n",
    "\n",
    "while (gecici_sayi>0):\n",
    "    basamak=gecici_sayi%10\n",
    "    \n",
    "    print(basamak)\n",
    "    \n",
    "    toplam +=basamak**basamak_sayisi\n",
    "    print(toplam)\n",
    "    \n",
    "    gecici_sayi//=10\n",
    "    print(gecici_sayi)\n",
    "    \n",
    "    \n",
    "if toplam==int(sayi):\n",
    "    print(f\"{sayi} Armstrong Sayısıdır\")\n",
    "        \n",
    "else:\n",
    "    print(f\"{sayi} Armstrong Sayısı Değildir.\")"
   ]
  },
  {
   "cell_type": "markdown",
   "id": "2eb0956b",
   "metadata": {},
   "source": [
    "### Problem 3\n",
    "1'den 10'kadar olan sayılarla ekrana çarpım tablosu bastırmaya çalışın.\n",
    "\n",
    "*İpucu: İç içe 2 tane for döngüsü kullanın. Aynı zamanda sayıları range() fonksiyonunu kullanarak elde edin.*"
   ]
  },
  {
   "cell_type": "code",
   "execution_count": 38,
   "id": "7e63a175",
   "metadata": {},
   "outputs": [
    {
     "name": "stdout",
     "output_type": "stream",
     "text": [
      "1*1=1\n",
      "1*2=2\n",
      "1*3=3\n",
      "1*4=4\n",
      "1*5=5\n",
      "1*6=6\n",
      "1*7=7\n",
      "1*8=8\n",
      "1*9=9\n",
      "1*10=10\n",
      "***********************\n",
      "2*1=2\n",
      "2*2=4\n",
      "2*3=6\n",
      "2*4=8\n",
      "2*5=10\n",
      "2*6=12\n",
      "2*7=14\n",
      "2*8=16\n",
      "2*9=18\n",
      "2*10=20\n",
      "***********************\n",
      "3*1=3\n",
      "3*2=6\n",
      "3*3=9\n",
      "3*4=12\n",
      "3*5=15\n",
      "3*6=18\n",
      "3*7=21\n",
      "3*8=24\n",
      "3*9=27\n",
      "3*10=30\n",
      "***********************\n",
      "4*1=4\n",
      "4*2=8\n",
      "4*3=12\n",
      "4*4=16\n",
      "4*5=20\n",
      "4*6=24\n",
      "4*7=28\n",
      "4*8=32\n",
      "4*9=36\n",
      "4*10=40\n",
      "***********************\n",
      "5*1=5\n",
      "5*2=10\n",
      "5*3=15\n",
      "5*4=20\n",
      "5*5=25\n",
      "5*6=30\n",
      "5*7=35\n",
      "5*8=40\n",
      "5*9=45\n",
      "5*10=50\n",
      "***********************\n",
      "6*1=6\n",
      "6*2=12\n",
      "6*3=18\n",
      "6*4=24\n",
      "6*5=30\n",
      "6*6=36\n",
      "6*7=42\n",
      "6*8=48\n",
      "6*9=54\n",
      "6*10=60\n",
      "***********************\n",
      "7*1=7\n",
      "7*2=14\n",
      "7*3=21\n",
      "7*4=28\n",
      "7*5=35\n",
      "7*6=42\n",
      "7*7=49\n",
      "7*8=56\n",
      "7*9=63\n",
      "7*10=70\n",
      "***********************\n",
      "8*1=8\n",
      "8*2=16\n",
      "8*3=24\n",
      "8*4=32\n",
      "8*5=40\n",
      "8*6=48\n",
      "8*7=56\n",
      "8*8=64\n",
      "8*9=72\n",
      "8*10=80\n",
      "***********************\n",
      "9*1=9\n",
      "9*2=18\n",
      "9*3=27\n",
      "9*4=36\n",
      "9*5=45\n",
      "9*6=54\n",
      "9*7=63\n",
      "9*8=72\n",
      "9*9=81\n",
      "9*10=90\n",
      "***********************\n",
      "10*1=10\n",
      "10*2=20\n",
      "10*3=30\n",
      "10*4=40\n",
      "10*5=50\n",
      "10*6=60\n",
      "10*7=70\n",
      "10*8=80\n",
      "10*9=90\n",
      "10*10=100\n",
      "***********************\n"
     ]
    }
   ],
   "source": [
    "for i in range(1,11):\n",
    "    for j in range(1,11):\n",
    "        print(f'{i}*{j}={i*j}')\n",
    "        \n",
    "    print(\"***********************\")"
   ]
  },
  {
   "cell_type": "markdown",
   "id": "01086cd5",
   "metadata": {},
   "source": [
    "### Problem 4\n",
    "Her bir while döngüsünde kullanıcıdan bir sayı alın ve kullanıcının girdiği sayıları \"toplam\" isimli bir değişkene ekleyin. Kullanıcı \"q\" tuşuna bastığı zaman döngüyü sonlandırın ve ekrana \"toplam değişkenini\" bastırın.\n",
    "\n",
    "*İpucu : while döngüsünü sonsuz koşulla başlatın ve kullanıcı q'ya basarsa döngüyü break ile sonlandırın.*"
   ]
  },
  {
   "cell_type": "code",
   "execution_count": 40,
   "id": "43448af8",
   "metadata": {},
   "outputs": [
    {
     "name": "stdout",
     "output_type": "stream",
     "text": [
      "Sayı giriniz 159\n",
      "Sayı giriniz 154\n",
      "Sayı giriniz 245\n",
      "Sayı giriniz 5447\n",
      "Sayı giriniz 8774\n",
      "Sayı giriniz q\n",
      "Girdiğiniz sayıların toplamı  14779\n"
     ]
    }
   ],
   "source": [
    "toplam=0\n",
    "while True:\n",
    "    \n",
    "    \n",
    "    sayi=input(\"Sayı giriniz \")\n",
    "    \n",
    "    \n",
    "    if sayi=='q':\n",
    "        break\n",
    "    sayi=int(sayi)\n",
    "    toplam +=sayi\n",
    "print(\"Girdiğiniz sayıların toplamı \",toplam)"
   ]
  },
  {
   "cell_type": "markdown",
   "id": "459954e3",
   "metadata": {},
   "source": [
    "### Problem 5\n",
    "1'den 100'e kadar olan sayılardan sadece 3'e bölünen sayıları ekrana bastırın. Bu işlemi *continue* ile yapmaya çalışın."
   ]
  },
  {
   "cell_type": "code",
   "execution_count": 71,
   "id": "3b32acb6",
   "metadata": {},
   "outputs": [
    {
     "data": {
      "text/plain": [
       "[3,\n",
       " 6,\n",
       " 9,\n",
       " 12,\n",
       " 15,\n",
       " 18,\n",
       " 21,\n",
       " 24,\n",
       " 27,\n",
       " 30,\n",
       " 33,\n",
       " 36,\n",
       " 39,\n",
       " 42,\n",
       " 45,\n",
       " 48,\n",
       " 51,\n",
       " 54,\n",
       " 57,\n",
       " 60,\n",
       " 63,\n",
       " 66,\n",
       " 69,\n",
       " 72,\n",
       " 75,\n",
       " 78,\n",
       " 81,\n",
       " 84,\n",
       " 87,\n",
       " 90,\n",
       " 93,\n",
       " 96,\n",
       " 99]"
      ]
     },
     "execution_count": 71,
     "metadata": {},
     "output_type": "execute_result"
    }
   ],
   "source": [
    "Liste=[]\n",
    "for i in range(1,101):\n",
    "    if i%3==0:\n",
    "        Liste.append(i)\n",
    "        \n",
    "    else:\n",
    "        continue\n",
    "        \n",
    "Liste     "
   ]
  },
  {
   "cell_type": "markdown",
   "id": "f7323d7d",
   "metadata": {},
   "source": [
    "### Problem 6\n",
    "Buradaki problemin çözümünü derslerimizde özellikle öğrenmedik. Burada mantık yürüterek ve list comprehension kullanarak 1'den 100'e kadar olan sayılardan sadece çift sayıları bir listeye atmayı yapmayı çalışın.\n",
    "\n",
    "Not: Programlamada her detayı öğrenemeyiz. Bunun için bazı yerlerde deneme yanılma yoluyla da öğrendiğimiz şeyler olur. Bu problemde deneme yanılma yoluyla list comprehension'ın koşullu durumlarla kullanımını öğreneceksiniz.\n",
    "\n",
    "İpucu: Basit düşünmeye çalışın."
   ]
  },
  {
   "cell_type": "code",
   "execution_count": 64,
   "id": "5c84a865",
   "metadata": {},
   "outputs": [
    {
     "data": {
      "text/plain": [
       "[2,\n",
       " 4,\n",
       " 6,\n",
       " 8,\n",
       " 10,\n",
       " 12,\n",
       " 14,\n",
       " 16,\n",
       " 18,\n",
       " 20,\n",
       " 22,\n",
       " 24,\n",
       " 26,\n",
       " 28,\n",
       " 30,\n",
       " 32,\n",
       " 34,\n",
       " 36,\n",
       " 38,\n",
       " 40,\n",
       " 42,\n",
       " 44,\n",
       " 46,\n",
       " 48,\n",
       " 50,\n",
       " 52,\n",
       " 54,\n",
       " 56,\n",
       " 58,\n",
       " 60,\n",
       " 62,\n",
       " 64,\n",
       " 66,\n",
       " 68,\n",
       " 70,\n",
       " 72,\n",
       " 74,\n",
       " 76,\n",
       " 78,\n",
       " 80,\n",
       " 82,\n",
       " 84,\n",
       " 86,\n",
       " 88,\n",
       " 90,\n",
       " 92,\n",
       " 94,\n",
       " 96,\n",
       " 98,\n",
       " 100]"
      ]
     },
     "execution_count": 64,
     "metadata": {},
     "output_type": "execute_result"
    }
   ],
   "source": [
    "[ sayi for sayi in range(1,101) if sayi%2==0]"
   ]
  },
  {
   "cell_type": "code",
   "execution_count": null,
   "id": "de8a0a5d",
   "metadata": {},
   "outputs": [],
   "source": []
  }
 ],
 "metadata": {
  "kernelspec": {
   "display_name": "Python 3 (ipykernel)",
   "language": "python",
   "name": "python3"
  },
  "language_info": {
   "codemirror_mode": {
    "name": "ipython",
    "version": 3
   },
   "file_extension": ".py",
   "mimetype": "text/x-python",
   "name": "python",
   "nbconvert_exporter": "python",
   "pygments_lexer": "ipython3",
   "version": "3.11.2"
  },
  "vscode": {
   "interpreter": {
    "hash": "82535a03b4899beafa20fd7484ff717911f94ed0a80f2b5bdb8029e314afae8c"
   }
  }
 },
 "nbformat": 4,
 "nbformat_minor": 5
}
